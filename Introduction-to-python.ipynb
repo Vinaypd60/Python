{
 "cells": [
  {
   "cell_type": "markdown",
   "id": "4158e4ef-66dc-4073-8b4f-a2150d84d7a1",
   "metadata": {},
   "source": [
    "# History of python:"
   ]
  },
  {
   "cell_type": "markdown",
   "id": "0f6c65a1-0528-40ca-897f-a8a4807b9e7f",
   "metadata": {},
   "source": [
    "#### Python programming language foundation stone has laid in the year 1980.\n",
    "#### Python language started on in the year of 1989.\n",
    "#### It is officially released in the year of 1991 feburary.\n",
    "#### It is developed by \"Guido van rossum\".\n",
    "#### It is developed CWI(centrum wiskende information in netherlands)\n",
    "#### It is maintained by non-commercial organization python SW foundation (PSF)."
   ]
  },
  {
   "cell_type": "code",
   "execution_count": null,
   "id": "c9947b10-91b3-4d1e-8db4-a489ea42ca7b",
   "metadata": {},
   "outputs": [],
   "source": []
  },
  {
   "cell_type": "markdown",
   "id": "0ed44c5a-d23a-4354-8a49-de99d07940f7",
   "metadata": {},
   "source": [
    "# Version of python:\n",
    "### Python programming contains 3-types of versions.\n",
    "#### a) Python 1.x\n",
    "#### b) Python 2.x Here X represents 1.2,1.3,1.4\n",
    "#### c) Python 3.x does not contain backward compatability with python 2.x\n",
    "\n",
    "## Python Version 3.12.2\n",
    "### 3 - Major Version\n",
    "### 12 - Minor Version\n",
    "### 2 - Alpha Version(Patch)"
   ]
  },
  {
   "cell_type": "code",
   "execution_count": null,
   "id": "5b88ca1a-8228-479c-b340-37a7d0a3e71a",
   "metadata": {},
   "outputs": [],
   "source": []
  },
  {
   "cell_type": "markdown",
   "id": "b5b61cca-1280-41b7-a3a7-79ac3d6b3618",
   "metadata": {},
   "source": [
    "# Python program inspired from:\n",
    "### a) Fundamental programming from c\n",
    "### b) Oops from c++\n",
    "### c) Scripting program from PERL\n",
    "### d) Modular program from modulo"
   ]
  },
  {
   "cell_type": "code",
   "execution_count": null,
   "id": "e3a49589-3e77-461c-a052-c48876651b20",
   "metadata": {},
   "outputs": [],
   "source": []
  },
  {
   "cell_type": "markdown",
   "id": "b4fd05d6-a231-4597-a642-4f59ce7ab13f",
   "metadata": {},
   "source": [
    "# Features of python:"
   ]
  },
  {
   "cell_type": "markdown",
   "id": "0f3eb699-d586-4c8a-a9d8-53548b99efc4",
   "metadata": {},
   "source": [
    "### Features of a language are nothing but services / facilities providing by python developers and thoses fratures used by real time programmers for dev real-time apps.\n",
    "#### a) Simple\n",
    "#### b) Freeware & opensource\n",
    "#### c) Platform independent\n",
    "#### d) Dynamically typed\n",
    "#### e) Interpreted\n",
    "#### f) High - level\n",
    "#### g) Extensible\n",
    "#### h) Embedded\n",
    "#### i) Both function and oops\n",
    "#### j) Robust (strong)\n",
    "#### k) Extensive support for third party API's(Numpy, Pandas, Scipy)"
   ]
  },
  {
   "cell_type": "code",
   "execution_count": null,
   "id": "85844fbd-0a71-47cd-bf5b-fb9c34c533c0",
   "metadata": {},
   "outputs": [],
   "source": []
  },
  {
   "cell_type": "markdown",
   "id": "8589dfa4-01b0-4602-a3dc-2880b17e7b1a",
   "metadata": {},
   "source": [
    "# Real time application developed by using python:"
   ]
  },
  {
   "cell_type": "markdown",
   "id": "303207e4-89f1-45d1-8e3e-0d71c588d3c9",
   "metadata": {},
   "source": [
    "## By using python program language and some combined technologies, to develop real time application."
   ]
  },
  {
   "cell_type": "markdown",
   "id": "60f0e697-9b8a-46b5-bfd6-958c98eab0b5",
   "metadata": {},
   "source": [
    "#### 1) To Develop Web application.\n",
    "#### 2) To Develop Gaming application.\n",
    "#### 3) To Develop Artificail Intelligence.\n",
    "#### 4) To Develop Image Processing application.\n",
    "#### 5) To Develop Video & Audio application.\n",
    "#### 6) To Develop Web-scrapping / Web-harvesting.\n",
    "#### 7) To Develop Business application.\n",
    "#### 8) To Develop Scientific application.\n",
    "#### 9) To Develop OS installer\n",
    "#### 10) To Development of language(Spark,Scale)\n",
    "#### 11) To Develop GUI application(ATM, Dmart-biling).\n",
    "#### 12) To Develop data analysis / analytics.\n",
    "#### 13) To Develop automation of testing(selenium).\n",
    "#### 14) To Develop complex math operations.\n",
    "#### 15) To Develop of console based applications(NON-GUI).\n",
    "#### 16) To Develop of animations.\n",
    "#### 17) To Develop CAD & CAM based applications.\n",
    "#### 18) Development of computer vision.(QR-CODE and Bar-code)\n",
    "#### 19) To Development of IOT.\n",
    "#### 20) To Develop enterprise applications."
   ]
  },
  {
   "cell_type": "code",
   "execution_count": null,
   "id": "4e41cdae-70fe-4154-bef7-760a2f21f913",
   "metadata": {},
   "outputs": [],
   "source": []
  },
  {
   "cell_type": "markdown",
   "id": "fc5bb696-44b6-489a-86b4-544ef64d7623",
   "metadata": {},
   "source": [
    "# Types of Errors:"
   ]
  },
  {
   "cell_type": "markdown",
   "id": "fa5016e3-a6ea-4f18-9472-cf6a98cf6a87",
   "metadata": {},
   "source": [
    "#### 1) Compile time Error\n",
    "#### 2) Logical Error\n",
    "#### 3) Runtime Error\n",
    "#### 4) Type Error\n",
    "#### 5) Index Error\n",
    "#### 6) Value Error\n",
    "#### 7) Name Error\n",
    "#### 8) Key Error"
   ]
  },
  {
   "cell_type": "code",
   "execution_count": null,
   "id": "47a68c5f-c218-4deb-82e6-d35b7920fcbe",
   "metadata": {},
   "outputs": [],
   "source": []
  }
 ],
 "metadata": {
  "kernelspec": {
   "display_name": "Python 3 (ipykernel)",
   "language": "python",
   "name": "python3"
  },
  "language_info": {
   "codemirror_mode": {
    "name": "ipython",
    "version": 3
   },
   "file_extension": ".py",
   "mimetype": "text/x-python",
   "name": "python",
   "nbconvert_exporter": "python",
   "pygments_lexer": "ipython3",
   "version": "3.12.4"
  }
 },
 "nbformat": 4,
 "nbformat_minor": 5
}
