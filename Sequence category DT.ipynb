{
 "cells": [
  {
   "cell_type": "markdown",
   "id": "ce958d2a-1a4e-4b1f-8645-730ecb3d72c8",
   "metadata": {},
   "source": [
    "# Sequence category Data type\n",
    "## The purpose of sequence category data type is that \"to store sequence of values\".\n",
    "## In python programming language, we have 4 Data types in sequence category.\n",
    "### They are:\n",
    "#### 1) str \n",
    "#### 2) bytes\n",
    "#### 3) bytearray\n",
    "#### 4) range"
   ]
  },
  {
   "cell_type": "markdown",
   "id": "e037fcf0-51a7-48a6-9d13-aedc5999a26c",
   "metadata": {},
   "source": [
    "# str\n",
    "## 'str' is one of the pre-defined class and it is treated as sequence category.\n",
    "## The main purpose of 'str' DT is that \"to store string / Text / Alpha numeric data\".\n",
    "## Number of ways to organize / store str data.\n",
    "## In python, we have two ways to store the str data.\n",
    "### 1) Single line str data\n",
    "### 2) Multi line str data"
   ]
  },
  {
   "cell_type": "markdown",
   "id": "5e3f63e2-575c-416e-8c00-9e81e118793d",
   "metadata": {},
   "source": [
    "# Single line str data\n",
    "### The single line str data is one, which is enclosed with single quotes (or) double quotes.\n",
    "## Syntax: \"single line DT\"\n",
    "## 'Single line DT'\n",
    "### Note: We can't use single quotes (or) double quotes for store multiline str data."
   ]
  },
  {
   "cell_type": "code",
   "execution_count": 1,
   "id": "130a5a94-68f5-496b-90cc-1036ef0a9296",
   "metadata": {},
   "outputs": [
    {
     "name": "stdout",
     "output_type": "stream",
     "text": [
      "Vinay <class 'str'> 2889386813760\n"
     ]
    }
   ],
   "source": [
    "S = \"Vinay\"\n",
    "print(S,type(S),id(S))"
   ]
  },
  {
   "cell_type": "code",
   "execution_count": 2,
   "id": "882be259-b853-49ee-b21c-6c33853a98a3",
   "metadata": {},
   "outputs": [
    {
     "name": "stdout",
     "output_type": "stream",
     "text": [
      "12345 <class 'str'> 2889386816352\n"
     ]
    }
   ],
   "source": [
    "s = \"12345\"\n",
    "print(s,type(s),id(s))"
   ]
  },
  {
   "cell_type": "code",
   "execution_count": 3,
   "id": "c075a7b6-e54a-4a57-ba19-ef84bd0cb210",
   "metadata": {},
   "outputs": [
    {
     "name": "stdout",
     "output_type": "stream",
     "text": [
      "vinay1234 <class 'str'> 2889386935088\n"
     ]
    }
   ],
   "source": [
    "s = \"vinay1234\"\n",
    "print(s,type(s),id(s))"
   ]
  },
  {
   "cell_type": "code",
   "execution_count": 4,
   "id": "1b90a0f3-5681-41c9-8a5e-9c83863d8822",
   "metadata": {},
   "outputs": [
    {
     "name": "stdout",
     "output_type": "stream",
     "text": [
      "vinay#@12345% <class 'str'> 2889386937456\n"
     ]
    }
   ],
   "source": [
    "s = \"vinay#@12345%\"\n",
    "print(s,type(s),id(s))"
   ]
  },
  {
   "cell_type": "code",
   "execution_count": 5,
   "id": "8c3eb26b-d030-48f8-81fc-d2b24b63ce38",
   "metadata": {},
   "outputs": [
    {
     "ename": "SyntaxError",
     "evalue": "unterminated string literal (detected at line 1) (1089945992.py, line 1)",
     "output_type": "error",
     "traceback": [
      "\u001b[1;36m  Cell \u001b[1;32mIn[5], line 1\u001b[1;36m\u001b[0m\n\u001b[1;33m    s = \"vinay123'\u001b[0m\n\u001b[1;37m        ^\u001b[0m\n\u001b[1;31mSyntaxError\u001b[0m\u001b[1;31m:\u001b[0m unterminated string literal (detected at line 1)\n"
     ]
    }
   ],
   "source": [
    "s = \"vinay123'  #SyntaxError: unterminated string literal\n",
    "print(s,type(s),id(s))"
   ]
  },
  {
   "cell_type": "code",
   "execution_count": null,
   "id": "673716a5-9c19-461f-8f28-c3f1f3ec88ea",
   "metadata": {},
   "outputs": [],
   "source": []
  },
  {
   "cell_type": "markdown",
   "id": "0b9b5294-0df5-4bb6-9e71-0668dc7d6870",
   "metadata": {},
   "source": [
    "# Multiline str data\n",
    "## The multiline string data is one which is enclosed with tripple single (or) tripple double quotes."
   ]
  },
  {
   "cell_type": "code",
   "execution_count": 6,
   "id": "85b14a96-5fd0-4575-9112-0c8ae05ecdf2",
   "metadata": {},
   "outputs": [
    {
     "name": "stdout",
     "output_type": "stream",
     "text": [
      "Vinay is a goodboy and he is from hyderabad <class 'str'>\n"
     ]
    }
   ],
   "source": [
    "a = \"\"\"Vinay is a goodboy and he is from hyderabad\"\"\"\n",
    "print(a,type(a))"
   ]
  },
  {
   "cell_type": "code",
   "execution_count": 7,
   "id": "0347d4a6-9021-494f-ae92-a038b408f63e",
   "metadata": {},
   "outputs": [
    {
     "name": "stdout",
     "output_type": "stream",
     "text": [
      "Vinay is a goodboy and he is from hyderabad,Telangana <class 'str'>\n"
     ]
    }
   ],
   "source": [
    "b = '''Vinay is a goodboy and he is from hyderabad,Telangana'''\n",
    "print(b,type(b))"
   ]
  },
  {
   "cell_type": "markdown",
   "id": "ab83753f-37db-44d1-b62b-8bfec1cfdaca",
   "metadata": {},
   "source": [
    "# Note: \n",
    "## Hence, we have 4 notations to store string data. they are:\n",
    "### 1) Single quotes\n",
    "### 2) Double quotes\n",
    "### 3) Tripple single quotes\n",
    "### 4) Tripple double quotes"
   ]
  },
  {
   "cell_type": "code",
   "execution_count": 12,
   "id": "27e5997d-c17c-47d3-b2fe-6d05a1274ee6",
   "metadata": {},
   "outputs": [
    {
     "name": "stdout",
     "output_type": "stream",
     "text": [
      "Python programming \n",
      " Developed by Guido van \n",
      " at CWI in netharlands. <class 'str'> 2889386507632\n"
     ]
    }
   ],
   "source": [
    "s = \"Python programming \\n Developed by Guido van \\n at CWI in netharlands.\"\n",
    "print(s,type(s),id(s))"
   ]
  },
  {
   "cell_type": "code",
   "execution_count": null,
   "id": "a109bed1-a8b9-4e20-a27a-cfede2c25f5e",
   "metadata": {},
   "outputs": [],
   "source": []
  },
  {
   "cell_type": "markdown",
   "id": "c4f2b2fb-80e5-4317-a9f8-746a86a821dd",
   "metadata": {},
   "source": [
    "# operations on str DT\n",
    "### On str data type, we can perform two types of operations.\n",
    "## They are:\n",
    "### 1) Indexing\n",
    "### 2) Slicing"
   ]
  },
  {
   "cell_type": "code",
   "execution_count": null,
   "id": "af2a6012-9962-4fa5-bd39-8c62e5d7124e",
   "metadata": {},
   "outputs": [],
   "source": []
  },
  {
   "cell_type": "markdown",
   "id": "9f1fb9b8-4638-4984-b2b1-149ae3993ca7",
   "metadata": {},
   "source": [
    "## Indexing\n",
    "### The process of obtaining an elements from given str object by passing valid index value.\n",
    "### syntax: strobj[index]\n",
    "### Index can be either +ve or -ve\n",
    "### If we enter valid index then get value at that index.\n",
    "### If we enter invalid index then get index error."
   ]
  },
  {
   "cell_type": "code",
   "execution_count": 15,
   "id": "b8e05b4c-916f-4090-a48c-40c1c34ee6eb",
   "metadata": {},
   "outputs": [
    {
     "name": "stdout",
     "output_type": "stream",
     "text": [
      "Vinay <class 'str'>\n"
     ]
    }
   ],
   "source": [
    "s = \"Vinay\"\n",
    "print(s,type(s))"
   ]
  },
  {
   "cell_type": "code",
   "execution_count": 16,
   "id": "109ec21c-85c2-4178-b34f-112c197962d8",
   "metadata": {},
   "outputs": [
    {
     "name": "stdout",
     "output_type": "stream",
     "text": [
      "V\n",
      "i\n",
      "n\n",
      "a\n",
      "y\n"
     ]
    },
    {
     "ename": "IndexError",
     "evalue": "string index out of range",
     "output_type": "error",
     "traceback": [
      "\u001b[1;31m---------------------------------------------------------------------------\u001b[0m",
      "\u001b[1;31mIndexError\u001b[0m                                Traceback (most recent call last)",
      "Cell \u001b[1;32mIn[16], line 6\u001b[0m\n\u001b[0;32m      4\u001b[0m \u001b[38;5;28mprint\u001b[39m(s[\u001b[38;5;241m3\u001b[39m])\n\u001b[0;32m      5\u001b[0m \u001b[38;5;28mprint\u001b[39m(s[\u001b[38;5;241m4\u001b[39m])\n\u001b[1;32m----> 6\u001b[0m \u001b[38;5;28mprint\u001b[39m(\u001b[43ms\u001b[49m\u001b[43m[\u001b[49m\u001b[38;5;241;43m5\u001b[39;49m\u001b[43m]\u001b[49m)\n",
      "\u001b[1;31mIndexError\u001b[0m: string index out of range"
     ]
    }
   ],
   "source": [
    "print(s[0])\n",
    "print(s[1])\n",
    "print(s[2])\n",
    "print(s[3])\n",
    "print(s[4])\n",
    "print(s[5]) # string index out of range"
   ]
  },
  {
   "cell_type": "code",
   "execution_count": 17,
   "id": "5da378b1-1b80-413d-8150-4db826fdd894",
   "metadata": {},
   "outputs": [
    {
     "name": "stdout",
     "output_type": "stream",
     "text": [
      "y\n",
      "a\n",
      "n\n",
      "i\n",
      "V\n"
     ]
    },
    {
     "ename": "IndexError",
     "evalue": "string index out of range",
     "output_type": "error",
     "traceback": [
      "\u001b[1;31m---------------------------------------------------------------------------\u001b[0m",
      "\u001b[1;31mIndexError\u001b[0m                                Traceback (most recent call last)",
      "Cell \u001b[1;32mIn[17], line 6\u001b[0m\n\u001b[0;32m      4\u001b[0m \u001b[38;5;28mprint\u001b[39m(s[\u001b[38;5;241m-\u001b[39m\u001b[38;5;241m4\u001b[39m])\n\u001b[0;32m      5\u001b[0m \u001b[38;5;28mprint\u001b[39m(s[\u001b[38;5;241m-\u001b[39m\u001b[38;5;241m5\u001b[39m])\n\u001b[1;32m----> 6\u001b[0m \u001b[38;5;28mprint\u001b[39m(\u001b[43ms\u001b[49m\u001b[43m[\u001b[49m\u001b[38;5;241;43m-\u001b[39;49m\u001b[38;5;241;43m6\u001b[39;49m\u001b[43m]\u001b[49m)\n",
      "\u001b[1;31mIndexError\u001b[0m: string index out of range"
     ]
    }
   ],
   "source": [
    "print(s[-1])\n",
    "print(s[-2])\n",
    "print(s[-3])\n",
    "print(s[-4])\n",
    "print(s[-5])\n",
    "print(s[-6]) # string index out of range"
   ]
  },
  {
   "cell_type": "code",
   "execution_count": null,
   "id": "caca67f1-570f-4b6e-85ed-470c260e7523",
   "metadata": {},
   "outputs": [],
   "source": []
  },
  {
   "cell_type": "markdown",
   "id": "0855080f-e7ad-4699-8a56-401e908b9d46",
   "metadata": {},
   "source": [
    "# Slicing\n",
    "## The process of obtaining range of chars (or) values(sub-str) for main string is called slicing.\n",
    "## To perform slicing opertation, we have 5types.\n",
    "## syntax: \n",
    "### strobj[Begin:End]\n",
    "### strobj[Begin:]\n",
    "### strobj[:End]\n",
    "### strobj[:]\n",
    "### strobj[Begin:End:Start]"
   ]
  },
  {
   "cell_type": "code",
   "execution_count": 20,
   "id": "e1ec95dd-c1f1-468a-b30d-eff6d352c5bb",
   "metadata": {},
   "outputs": [
    {
     "name": "stdout",
     "output_type": "stream",
     "text": [
      "Vinay <class 'str'>\n"
     ]
    },
    {
     "data": {
      "text/plain": [
       "'na'"
      ]
     },
     "execution_count": 20,
     "metadata": {},
     "output_type": "execute_result"
    }
   ],
   "source": [
    "s = \"Vinay\"\n",
    "print(s,type(s))\n",
    "s[2:4]"
   ]
  },
  {
   "cell_type": "code",
   "execution_count": 21,
   "id": "2f685d66-ad53-4683-b4e3-7866cbc9ff7e",
   "metadata": {},
   "outputs": [
    {
     "data": {
      "text/plain": [
       "'Vin'"
      ]
     },
     "execution_count": 21,
     "metadata": {},
     "output_type": "execute_result"
    }
   ],
   "source": [
    "s[0:3]"
   ]
  },
  {
   "cell_type": "code",
   "execution_count": 29,
   "id": "ac15824e-7a9f-4cd4-866b-7378e3d6f9f4",
   "metadata": {},
   "outputs": [
    {
     "data": {
      "text/plain": [
       "'Vina'"
      ]
     },
     "execution_count": 29,
     "metadata": {},
     "output_type": "execute_result"
    }
   ],
   "source": [
    "s[-5:-1]"
   ]
  },
  {
   "cell_type": "code",
   "execution_count": 30,
   "id": "d2d11058-e79c-4f89-9b3b-695414248b8f",
   "metadata": {},
   "outputs": [
    {
     "data": {
      "text/plain": [
       "'in'"
      ]
     },
     "execution_count": 30,
     "metadata": {},
     "output_type": "execute_result"
    }
   ],
   "source": [
    "s[-4:-2]"
   ]
  },
  {
   "cell_type": "code",
   "execution_count": 31,
   "id": "113e3cc2-edc8-4d7b-8995-a8632f90467f",
   "metadata": {},
   "outputs": [
    {
     "data": {
      "text/plain": [
       "'na'"
      ]
     },
     "execution_count": 31,
     "metadata": {},
     "output_type": "execute_result"
    }
   ],
   "source": [
    "s[2:-1]"
   ]
  },
  {
   "cell_type": "code",
   "execution_count": 32,
   "id": "5cf9f10d-fb0b-49d1-a92d-3128b71d1c4a",
   "metadata": {},
   "outputs": [
    {
     "name": "stdout",
     "output_type": "stream",
     "text": [
      "Vinay sai <class 'str'> 2889393244016\n"
     ]
    }
   ],
   "source": [
    "s = \"Vinay sai\"\n",
    "print(s,type(s),id(s))"
   ]
  },
  {
   "cell_type": "code",
   "execution_count": 33,
   "id": "c129d1d8-d47c-46d8-87cc-66627a288a63",
   "metadata": {},
   "outputs": [
    {
     "data": {
      "text/plain": [
       "'Vinay sai'"
      ]
     },
     "execution_count": 33,
     "metadata": {},
     "output_type": "execute_result"
    }
   ],
   "source": [
    "s[-122:456]"
   ]
  },
  {
   "cell_type": "code",
   "execution_count": 34,
   "id": "eb2d4774-64b0-4b6d-bb73-a3988e1e0cd5",
   "metadata": {},
   "outputs": [
    {
     "data": {
      "text/plain": [
       "'Vinay sai'"
      ]
     },
     "execution_count": 34,
     "metadata": {},
     "output_type": "execute_result"
    }
   ],
   "source": [
    "s[-333:333]"
   ]
  },
  {
   "cell_type": "code",
   "execution_count": 35,
   "id": "453307f4-1e68-49ec-9004-fe9431bbd2bb",
   "metadata": {},
   "outputs": [
    {
     "data": {
      "text/plain": [
       "''"
      ]
     },
     "execution_count": 35,
     "metadata": {},
     "output_type": "execute_result"
    }
   ],
   "source": [
    "s[333:-333]"
   ]
  },
  {
   "cell_type": "code",
   "execution_count": 36,
   "id": "c488c41c-f39e-4520-b9ed-e1a21c8af699",
   "metadata": {},
   "outputs": [
    {
     "data": {
      "text/plain": [
       "'Vinay sai'"
      ]
     },
     "execution_count": 36,
     "metadata": {},
     "output_type": "execute_result"
    }
   ],
   "source": [
    "s[::1]"
   ]
  },
  {
   "cell_type": "code",
   "execution_count": 37,
   "id": "352da873-e656-436e-a3b7-da5aca5c3637",
   "metadata": {},
   "outputs": [
    {
     "data": {
      "text/plain": [
       "'Vnysi'"
      ]
     },
     "execution_count": 37,
     "metadata": {},
     "output_type": "execute_result"
    }
   ],
   "source": [
    "s[::2]"
   ]
  },
  {
   "cell_type": "code",
   "execution_count": 38,
   "id": "8dc3d81d-afdc-4fbd-b7c6-60e959d523ee",
   "metadata": {},
   "outputs": [
    {
     "data": {
      "text/plain": [
       "'Vas'"
      ]
     },
     "execution_count": 38,
     "metadata": {},
     "output_type": "execute_result"
    }
   ],
   "source": [
    "s[::3]"
   ]
  },
  {
   "cell_type": "code",
   "execution_count": 39,
   "id": "0674f40b-1b49-46e7-8858-697c6974916f",
   "metadata": {},
   "outputs": [
    {
     "data": {
      "text/plain": [
       "'Vyi'"
      ]
     },
     "execution_count": 39,
     "metadata": {},
     "output_type": "execute_result"
    }
   ],
   "source": [
    "s[::4]"
   ]
  },
  {
   "cell_type": "code",
   "execution_count": 40,
   "id": "00c079e2-f44d-4cfe-a984-eee705811290",
   "metadata": {},
   "outputs": [
    {
     "name": "stdout",
     "output_type": "stream",
     "text": [
      "LIRIL <class 'str'>\n"
     ]
    }
   ],
   "source": [
    "s = \"LIRIL\"\n",
    "print(s,type(s))"
   ]
  },
  {
   "cell_type": "code",
   "execution_count": 41,
   "id": "9ab1f3cc-fab1-4940-b345-90fb0a5174d6",
   "metadata": {},
   "outputs": [
    {
     "data": {
      "text/plain": [
       "'LIRIL'"
      ]
     },
     "execution_count": 41,
     "metadata": {},
     "output_type": "execute_result"
    }
   ],
   "source": [
    "s[::-1]"
   ]
  },
  {
   "cell_type": "code",
   "execution_count": 43,
   "id": "5450e1f5-9588-462e-b035-6cadbce90481",
   "metadata": {},
   "outputs": [
    {
     "name": "stdout",
     "output_type": "stream",
     "text": [
      "MOM <class 'str'>\n"
     ]
    },
    {
     "data": {
      "text/plain": [
       "'MOM'"
      ]
     },
     "execution_count": 43,
     "metadata": {},
     "output_type": "execute_result"
    }
   ],
   "source": [
    "s = \"MOM\"\n",
    "print(s,type(s))\n",
    "s[::-1]"
   ]
  },
  {
   "cell_type": "code",
   "execution_count": null,
   "id": "296429e5-b2e1-4924-91f1-68911378177e",
   "metadata": {},
   "outputs": [],
   "source": []
  }
 ],
 "metadata": {
  "kernelspec": {
   "display_name": "Python 3 (ipykernel)",
   "language": "python",
   "name": "python3"
  },
  "language_info": {
   "codemirror_mode": {
    "name": "ipython",
    "version": 3
   },
   "file_extension": ".py",
   "mimetype": "text/x-python",
   "name": "python",
   "nbconvert_exporter": "python",
   "pygments_lexer": "ipython3",
   "version": "3.12.4"
  }
 },
 "nbformat": 4,
 "nbformat_minor": 5
}
