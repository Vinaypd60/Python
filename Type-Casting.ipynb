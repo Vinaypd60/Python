{
 "cells": [
  {
   "cell_type": "markdown",
   "id": "90d7d2aa-ac78-41b0-9294-499373c2a800",
   "metadata": {},
   "source": [
    "# Type Casting techniques in python\n",
    "## The process of converting one possible type of value into another possible type of value is called \"Type Casting\".\n",
    "## In python programming, we have 5-fundamental type casting techniques.\n",
    "### int()\n",
    "### float()\n",
    "### bool()\n",
    "### complex()\n",
    "### str()"
   ]
  },
  {
   "cell_type": "code",
   "execution_count": null,
   "id": "a3c3df36-a97c-4949-8b71-2a24de4e58fa",
   "metadata": {},
   "outputs": [],
   "source": []
  },
  {
   "cell_type": "markdown",
   "id": "8117bee4-9709-4b2d-b2d6-512ee2ff3dfe",
   "metadata": {},
   "source": [
    "# int()\n",
    "### This function is used for converting one type of possible value into int type value.\n",
    "### syntax: varname: int(float / bool / comp / str)"
   ]
  },
  {
   "cell_type": "code",
   "execution_count": 2,
   "id": "1a077e3c-6637-4075-be33-4c4eae33465c",
   "metadata": {},
   "outputs": [
    {
     "name": "stdout",
     "output_type": "stream",
     "text": [
      "12.34 <class 'float'>\n",
      "-----------------\n",
      "12 <class 'int'>\n"
     ]
    }
   ],
   "source": [
    "a = 12.34\n",
    "print(a,type(a))\n",
    "print(\"-----------------\")\n",
    "b = int(a)\n",
    "print(b,type(b))"
   ]
  },
  {
   "cell_type": "code",
   "execution_count": 3,
   "id": "418a9250-c8b1-4030-85f1-16fbf50b1cd1",
   "metadata": {},
   "outputs": [
    {
     "name": "stdout",
     "output_type": "stream",
     "text": [
      "24.56 <class 'float'>\n",
      "----------------------\n",
      "24 <class 'int'>\n"
     ]
    }
   ],
   "source": [
    "b = 24.56\n",
    "print(b,type(b))\n",
    "print(\"----------------------\")\n",
    "c = int(b)\n",
    "print(c,type(c))"
   ]
  },
  {
   "cell_type": "code",
   "execution_count": 4,
   "id": "634a55ab-b071-4cb6-ac5e-55bf2e54d429",
   "metadata": {},
   "outputs": [
    {
     "name": "stdout",
     "output_type": "stream",
     "text": [
      "True <class 'bool'>\n",
      "----------------------\n",
      "1 <class 'int'>\n"
     ]
    }
   ],
   "source": [
    "a = True\n",
    "print(a,type(a))\n",
    "print(\"----------------------\")\n",
    "b = int(a)\n",
    "print(b,type(b))"
   ]
  },
  {
   "cell_type": "code",
   "execution_count": 5,
   "id": "2a8728bd-3da5-4f9d-ae24-aae3a7672016",
   "metadata": {},
   "outputs": [
    {
     "name": "stdout",
     "output_type": "stream",
     "text": [
      "False <class 'bool'>\n",
      "----------------------\n",
      "0 <class 'int'>\n"
     ]
    }
   ],
   "source": [
    "a = False\n",
    "print(a,type(a))\n",
    "print(\"----------------------\")\n",
    "b = int(a)\n",
    "print(b,type(b))"
   ]
  },
  {
   "cell_type": "code",
   "execution_count": 6,
   "id": "fe192225-168e-483a-b242-64e7f75b0453",
   "metadata": {},
   "outputs": [
    {
     "name": "stdout",
     "output_type": "stream",
     "text": [
      "(2+3j) <class 'complex'>\n",
      "--------------------\n"
     ]
    },
    {
     "ename": "TypeError",
     "evalue": "int() argument must be a string, a bytes-like object or a real number, not 'complex'",
     "output_type": "error",
     "traceback": [
      "\u001b[1;31m---------------------------------------------------------------------------\u001b[0m",
      "\u001b[1;31mTypeError\u001b[0m                                 Traceback (most recent call last)",
      "Cell \u001b[1;32mIn[6], line 4\u001b[0m\n\u001b[0;32m      2\u001b[0m \u001b[38;5;28mprint\u001b[39m(a,\u001b[38;5;28mtype\u001b[39m(a))\n\u001b[0;32m      3\u001b[0m \u001b[38;5;28mprint\u001b[39m(\u001b[38;5;124m\"\u001b[39m\u001b[38;5;124m--------------------\u001b[39m\u001b[38;5;124m\"\u001b[39m)\n\u001b[1;32m----> 4\u001b[0m b \u001b[38;5;241m=\u001b[39m \u001b[38;5;28;43mint\u001b[39;49m\u001b[43m(\u001b[49m\u001b[43ma\u001b[49m\u001b[43m)\u001b[49m\n\u001b[0;32m      5\u001b[0m \u001b[38;5;28mprint\u001b[39m(b,\u001b[38;5;28mtype\u001b[39m(b))\n",
      "\u001b[1;31mTypeError\u001b[0m: int() argument must be a string, a bytes-like object or a real number, not 'complex'"
     ]
    }
   ],
   "source": [
    "a = 2 +3j # not possible\n",
    "print(a,type(a))\n",
    "print(\"--------------------\")\n",
    "b = int(a)\n",
    "print(b,type(b))"
   ]
  },
  {
   "cell_type": "code",
   "execution_count": 2,
   "id": "82af8c2e-bc59-48df-9f33-3560a00b3c0b",
   "metadata": {},
   "outputs": [
    {
     "name": "stdout",
     "output_type": "stream",
     "text": [
      "12345 <class 'str'> 1605914979776\n",
      "---------------------\n",
      "12345 <class 'int'> 1605914452400\n"
     ]
    }
   ],
   "source": [
    "a = '12345'\n",
    "print(a,type(a),id(a))\n",
    "print(\"---------------------\")\n",
    "b = int(a)\n",
    "print(b,type(b),id(b))"
   ]
  },
  {
   "cell_type": "code",
   "execution_count": null,
   "id": "ed898406-573e-4a15-89d2-6d131c608090",
   "metadata": {},
   "outputs": [],
   "source": []
  },
  {
   "cell_type": "markdown",
   "id": "b9653b47-2635-49f2-87cb-e1feeeb19c98",
   "metadata": {},
   "source": [
    "# float\n",
    "## It is used for converting one type of possible value into float type value.\n",
    "### syntax: varname = float(int / bool/ complex / str)"
   ]
  },
  {
   "cell_type": "code",
   "execution_count": 3,
   "id": "ef7417e2-97a3-47e9-9e4d-26211cbd8402",
   "metadata": {},
   "outputs": [
    {
     "name": "stdout",
     "output_type": "stream",
     "text": [
      "12 <class 'int'> 140718899542808\n",
      "---------------------\n",
      "12.0 <class 'float'> 1605888662992\n"
     ]
    }
   ],
   "source": [
    "a = 12\n",
    "print(a,type(a),id(a))\n",
    "print(\"---------------------\")\n",
    "b = float(a)\n",
    "print(b,type(b),id(b))"
   ]
  },
  {
   "cell_type": "code",
   "execution_count": 4,
   "id": "28b679a4-2669-4511-9f6b-5eeb3ee9b9a1",
   "metadata": {},
   "outputs": [
    {
     "name": "stdout",
     "output_type": "stream",
     "text": [
      "True <class 'bool'> 140718898416512\n",
      "---------------------\n",
      "1.0 <class 'float'> 1605888666000\n"
     ]
    }
   ],
   "source": [
    "a = True\n",
    "print(a,type(a),id(a))\n",
    "print(\"---------------------\")\n",
    "b = float(a)\n",
    "print(b,type(b),id(b))"
   ]
  },
  {
   "cell_type": "code",
   "execution_count": 5,
   "id": "05de6de7-998e-4a21-8911-d058b070cb6c",
   "metadata": {},
   "outputs": [
    {
     "name": "stdout",
     "output_type": "stream",
     "text": [
      "(2+3j) <class 'complex'> 1605914452272\n",
      "---------------------\n"
     ]
    },
    {
     "ename": "TypeError",
     "evalue": "float() argument must be a string or a real number, not 'complex'",
     "output_type": "error",
     "traceback": [
      "\u001b[1;31m---------------------------------------------------------------------------\u001b[0m",
      "\u001b[1;31mTypeError\u001b[0m                                 Traceback (most recent call last)",
      "Cell \u001b[1;32mIn[5], line 4\u001b[0m\n\u001b[0;32m      2\u001b[0m \u001b[38;5;28mprint\u001b[39m(a,\u001b[38;5;28mtype\u001b[39m(a),\u001b[38;5;28mid\u001b[39m(a))\n\u001b[0;32m      3\u001b[0m \u001b[38;5;28mprint\u001b[39m(\u001b[38;5;124m\"\u001b[39m\u001b[38;5;124m---------------------\u001b[39m\u001b[38;5;124m\"\u001b[39m)\n\u001b[1;32m----> 4\u001b[0m b \u001b[38;5;241m=\u001b[39m \u001b[38;5;28;43mfloat\u001b[39;49m\u001b[43m(\u001b[49m\u001b[43ma\u001b[49m\u001b[43m)\u001b[49m\n\u001b[0;32m      5\u001b[0m \u001b[38;5;28mprint\u001b[39m(b,\u001b[38;5;28mtype\u001b[39m(b),\u001b[38;5;28mid\u001b[39m(b))\n",
      "\u001b[1;31mTypeError\u001b[0m: float() argument must be a string or a real number, not 'complex'"
     ]
    }
   ],
   "source": [
    "a = 2 + 3j # Value error\n",
    "print(a,type(a),id(a))\n",
    "print(\"---------------------\")\n",
    "b = float(a)\n",
    "print(b,type(b),id(b))"
   ]
  },
  {
   "cell_type": "code",
   "execution_count": 6,
   "id": "ad5d0d4a-b02a-47f8-abab-268eed69df96",
   "metadata": {},
   "outputs": [
    {
     "name": "stdout",
     "output_type": "stream",
     "text": [
      "12 <class 'str'> 1605915164128\n",
      "---------------------\n",
      "12.0 <class 'float'> 1605888662992\n"
     ]
    }
   ],
   "source": [
    "a = \"12\"\n",
    "print(a,type(a),id(a))\n",
    "print(\"---------------------\")\n",
    "b = float(a)\n",
    "print(b,type(b),id(b))"
   ]
  },
  {
   "cell_type": "code",
   "execution_count": 7,
   "id": "7c7ba6b4-eb66-4890-a1d9-ec466ca69136",
   "metadata": {},
   "outputs": [
    {
     "name": "stdout",
     "output_type": "stream",
     "text": [
      "22.35 <class 'str'> 1605914745696\n",
      "---------------------\n",
      "22.35 <class 'float'> 1605914445360\n"
     ]
    }
   ],
   "source": [
    "a = \"22.35\"\n",
    "print(a,type(a),id(a))\n",
    "print(\"---------------------\")\n",
    "b = float(a)\n",
    "print(b,type(b),id(b))"
   ]
  },
  {
   "cell_type": "code",
   "execution_count": null,
   "id": "ee63e41f-dd69-4353-b542-d4ac98a79094",
   "metadata": {},
   "outputs": [],
   "source": []
  },
  {
   "cell_type": "markdown",
   "id": "32c81663-9308-4c38-bc9a-b4222bc0d333",
   "metadata": {},
   "source": [
    "# bool\n",
    "## It is used for converting one type of possible value into bool type of value\n",
    "### syntax: varname = bool(int\\float\\complex\\str)"
   ]
  },
  {
   "cell_type": "code",
   "execution_count": 8,
   "id": "b7092a94-77e0-46ce-8c8c-98fd358d7f4b",
   "metadata": {},
   "outputs": [
    {
     "name": "stdout",
     "output_type": "stream",
     "text": [
      "100 <class 'int'> 140718899545624\n",
      "------------------------\n",
      "True <class 'bool'> 140718898416512\n"
     ]
    }
   ],
   "source": [
    "a = 100\n",
    "print(a,type(a),id(a))\n",
    "print(\"------------------------\")\n",
    "b = bool(a)\n",
    "print(b,type(b),id(b))"
   ]
  },
  {
   "cell_type": "code",
   "execution_count": 9,
   "id": "f86e68f4-23f3-4f2f-8631-d5c20b93d7dd",
   "metadata": {},
   "outputs": [
    {
     "name": "stdout",
     "output_type": "stream",
     "text": [
      "-120 <class 'int'> 1605920330832\n",
      "------------------------\n",
      "True <class 'bool'> 140718898416512\n"
     ]
    }
   ],
   "source": [
    "a = -120\n",
    "print(a,type(a),id(a))\n",
    "print(\"------------------------\")\n",
    "b = bool(a)\n",
    "print(b,type(b),id(b))"
   ]
  },
  {
   "cell_type": "code",
   "execution_count": 10,
   "id": "bfba1c50-4ea6-48e4-afc1-3ad1762d4169",
   "metadata": {},
   "outputs": [
    {
     "name": "stdout",
     "output_type": "stream",
     "text": [
      "0 <class 'int'> 140718899542424\n",
      "------------------------\n",
      "False <class 'bool'> 140718898416544\n"
     ]
    }
   ],
   "source": [
    "a = 0000\n",
    "print(a,type(a),id(a))\n",
    "print(\"------------------------\")\n",
    "b = bool(a)\n",
    "print(b,type(b),id(b))"
   ]
  },
  {
   "cell_type": "code",
   "execution_count": 11,
   "id": "d4fbf53b-1db4-4eee-af0c-cf58fb5189a3",
   "metadata": {},
   "outputs": [
    {
     "name": "stdout",
     "output_type": "stream",
     "text": [
      "1.4 <class 'float'> 1605914444976\n",
      "------------------------\n",
      "True <class 'bool'> 140718898416512\n"
     ]
    }
   ],
   "source": [
    "a = 1.4\n",
    "print(a,type(a),id(a))\n",
    "print(\"------------------------\")\n",
    "b = bool(a)\n",
    "print(b,type(b),id(b))"
   ]
  },
  {
   "cell_type": "code",
   "execution_count": 12,
   "id": "6ef1d41e-653a-40c5-a8e4-0ac6100cbf8b",
   "metadata": {},
   "outputs": [
    {
     "name": "stdout",
     "output_type": "stream",
     "text": [
      "0.0 <class 'float'> 1605890520560\n",
      "------------------------\n",
      "False <class 'bool'> 140718898416544\n"
     ]
    }
   ],
   "source": [
    "a = 0.0\n",
    "print(a,type(a),id(a))\n",
    "print(\"------------------------\")\n",
    "b = bool(a)\n",
    "print(b,type(b),id(b))"
   ]
  },
  {
   "cell_type": "code",
   "execution_count": 13,
   "id": "cd609395-8241-4699-8a1a-e5fdbf7622ae",
   "metadata": {},
   "outputs": [
    {
     "name": "stdout",
     "output_type": "stream",
     "text": [
      "(2+3j) <class 'complex'> 1605920337680\n",
      "------------------------\n",
      "True <class 'bool'> 140718898416512\n"
     ]
    }
   ],
   "source": [
    "a = 2 + 3j\n",
    "print(a,type(a),id(a))\n",
    "print(\"------------------------\")\n",
    "b = bool(a)\n",
    "print(b,type(b),id(b))"
   ]
  },
  {
   "cell_type": "code",
   "execution_count": 14,
   "id": "9df96f1c-c4d7-4375-a68c-5a403b78139b",
   "metadata": {},
   "outputs": [
    {
     "name": "stdout",
     "output_type": "stream",
     "text": [
      "0j <class 'complex'> 1605920337136\n",
      "------------------------\n",
      "False <class 'bool'> 140718898416544\n"
     ]
    }
   ],
   "source": [
    "a = 0 + 0j\n",
    "print(a,type(a),id(a))\n",
    "print(\"------------------------\")\n",
    "b = bool(a)\n",
    "print(b,type(b),id(b))"
   ]
  },
  {
   "cell_type": "markdown",
   "id": "9f006074-0da2-4884-8af8-e9091c552399",
   "metadata": {},
   "source": [
    "# All Non-zero values are treated as True\n",
    "# Alll Zero values are treated as False"
   ]
  },
  {
   "cell_type": "code",
   "execution_count": 15,
   "id": "854b5c20-80d1-4046-84a0-938a8e6af294",
   "metadata": {},
   "outputs": [
    {
     "name": "stdout",
     "output_type": "stream",
     "text": [
      "1e-13 <class 'float'>\n"
     ]
    }
   ],
   "source": [
    "a = 0.0000000000001\n",
    "print(a,type(a))"
   ]
  },
  {
   "cell_type": "code",
   "execution_count": 16,
   "id": "53a4b3ef-e352-4959-a8a0-4b6458e37a7c",
   "metadata": {},
   "outputs": [
    {
     "name": "stdout",
     "output_type": "stream",
     "text": [
      "0.0 <class 'float'>\n"
     ]
    }
   ],
   "source": [
    "a = 0.000000000000\n",
    "print(a,type(a))"
   ]
  },
  {
   "cell_type": "code",
   "execution_count": 17,
   "id": "5b4a16b5-445f-4933-84f2-348524da429d",
   "metadata": {},
   "outputs": [
    {
     "name": "stdout",
     "output_type": "stream",
     "text": [
      "1e-13 <class 'float'>\n",
      "--------------------------\n",
      "True <class 'bool'> 140718898416512\n"
     ]
    }
   ],
   "source": [
    "a = 0.0000000000001\n",
    "print(a,type(a))\n",
    "print(\"--------------------------\")\n",
    "b = bool(a)\n",
    "print(b,type(b),id(b))"
   ]
  },
  {
   "cell_type": "code",
   "execution_count": 18,
   "id": "eaa8297e-616a-4ad3-ba69-efaf35699be5",
   "metadata": {},
   "outputs": [
    {
     "name": "stdout",
     "output_type": "stream",
     "text": [
      "0.0 <class 'float'>\n",
      "--------------------------\n",
      "False <class 'bool'> 140718898416544\n"
     ]
    }
   ],
   "source": [
    "a = 0.000000000000\n",
    "print(a,type(a))\n",
    "print(\"--------------------------\")\n",
    "b = bool(a)\n",
    "print(b,type(b),id(b))"
   ]
  },
  {
   "cell_type": "code",
   "execution_count": 19,
   "id": "7870a061-38b8-4038-93bf-9fd972f5722b",
   "metadata": {},
   "outputs": [
    {
     "name": "stdout",
     "output_type": "stream",
     "text": [
      "1234 <class 'str'>\n",
      "--------------------\n",
      "True <class 'bool'> 140718898416512\n"
     ]
    }
   ],
   "source": [
    "a = \"1234\"\n",
    "print(a,type(a))\n",
    "print(\"--------------------\")\n",
    "b = bool(a)\n",
    "print(b,type(b),id(b))"
   ]
  },
  {
   "cell_type": "code",
   "execution_count": 20,
   "id": "4cb82ae6-0279-4d9d-acc2-7891d6129420",
   "metadata": {},
   "outputs": [
    {
     "name": "stdout",
     "output_type": "stream",
     "text": [
      "4378 <class 'str'>\n",
      "--------------------\n",
      "True <class 'bool'> 140718898416512\n"
     ]
    }
   ],
   "source": [
    "a = \"4378\"\n",
    "print(a,type(a))\n",
    "print(\"--------------------\")\n",
    "b = bool(a)\n",
    "print(b,type(b),id(b))"
   ]
  },
  {
   "cell_type": "code",
   "execution_count": 21,
   "id": "ca6c6f7d-76e8-4466-81da-d50f57f13e5a",
   "metadata": {},
   "outputs": [
    {
     "name": "stdout",
     "output_type": "stream",
     "text": [
      "0 <class 'str'>\n",
      "--------------------\n",
      "True <class 'bool'> 140718898416512\n"
     ]
    }
   ],
   "source": [
    "a = \"0\" # value is non-zero but len of str is 1\n",
    "print(a,type(a))\n",
    "print(\"--------------------\")\n",
    "b = bool(a)\n",
    "print(b,type(b),id(b))"
   ]
  },
  {
   "cell_type": "code",
   "execution_count": null,
   "id": "febef8e0-b70b-425f-bfe9-f76c73df03d6",
   "metadata": {},
   "outputs": [],
   "source": []
  },
  {
   "cell_type": "markdown",
   "id": "d8463bba-53e4-4f36-87b6-7ded565abfe7",
   "metadata": {},
   "source": [
    "# complex"
   ]
  },
  {
   "cell_type": "markdown",
   "id": "073f9f74-0364-4b47-beca-6e63dd520760",
   "metadata": {},
   "source": [
    "## It is used for converting one type of possible value into another complex type value.\n",
    "## Syntax: varname = complex(int\\float\\bool\\str)"
   ]
  },
  {
   "cell_type": "code",
   "execution_count": 23,
   "id": "62a25c5f-682b-4cf0-af0e-a56d053d4977",
   "metadata": {},
   "outputs": [
    {
     "name": "stdout",
     "output_type": "stream",
     "text": [
      "10 <class 'int'> 140718899542744\n",
      "-----------------------\n",
      "(10+0j) <class 'complex'> 1605920325840\n"
     ]
    }
   ],
   "source": [
    "a = 10\n",
    "print(a,type(a),id(a))\n",
    "print(\"-----------------------\")\n",
    "b = complex(a)\n",
    "print(b,type(b),id(b))"
   ]
  },
  {
   "cell_type": "code",
   "execution_count": 24,
   "id": "7ab43916-042f-4eb0-8002-945d026d4bb2",
   "metadata": {},
   "outputs": [
    {
     "name": "stdout",
     "output_type": "stream",
     "text": [
      "1.7 <class 'float'> 1605888666288\n",
      "-----------------------\n",
      "(1.7+0j) <class 'complex'> 1605920291152\n"
     ]
    }
   ],
   "source": [
    "a = 1.7\n",
    "print(a,type(a),id(a))\n",
    "print(\"-----------------------\")\n",
    "b = complex(a)\n",
    "print(b,type(b),id(b))"
   ]
  },
  {
   "cell_type": "code",
   "execution_count": 25,
   "id": "2912d327-b48f-42a8-abf4-4f01a0bd4b79",
   "metadata": {},
   "outputs": [
    {
     "name": "stdout",
     "output_type": "stream",
     "text": [
      "True <class 'bool'> 140718898416512\n",
      "-----------------------\n",
      "(1+0j) <class 'complex'> 1605920337584\n"
     ]
    }
   ],
   "source": [
    "a = True\n",
    "print(a,type(a),id(a))\n",
    "print(\"-----------------------\")\n",
    "b = complex(a)\n",
    "print(b,type(b),id(b))"
   ]
  },
  {
   "cell_type": "code",
   "execution_count": 26,
   "id": "439645e4-0ef3-43e7-a87d-2c5567a9fbf7",
   "metadata": {},
   "outputs": [
    {
     "name": "stdout",
     "output_type": "stream",
     "text": [
      "False <class 'bool'> 140718898416544\n",
      "-----------------------\n",
      "0j <class 'complex'> 1605914452560\n"
     ]
    }
   ],
   "source": [
    "a = False\n",
    "print(a,type(a),id(a))\n",
    "print(\"-----------------------\")\n",
    "b = complex(a)\n",
    "print(b,type(b),id(b))"
   ]
  },
  {
   "cell_type": "code",
   "execution_count": 27,
   "id": "23a4979c-4817-4b6c-866f-d13c225a1d43",
   "metadata": {},
   "outputs": [
    {
     "name": "stdout",
     "output_type": "stream",
     "text": [
      "18 <class 'str'> 1605916329424\n",
      "-----------------------\n",
      "(18+0j) <class 'complex'> 1605920282704\n"
     ]
    }
   ],
   "source": [
    "a = \"18\"\n",
    "print(a,type(a),id(a))\n",
    "print(\"-----------------------\")\n",
    "b = complex(a)\n",
    "print(b,type(b),id(b))"
   ]
  },
  {
   "cell_type": "code",
   "execution_count": null,
   "id": "1285f72b-3f67-4b73-bedd-40f5ea6e0442",
   "metadata": {},
   "outputs": [],
   "source": []
  }
 ],
 "metadata": {
  "kernelspec": {
   "display_name": "Python 3 (ipykernel)",
   "language": "python",
   "name": "python3"
  },
  "language_info": {
   "codemirror_mode": {
    "name": "ipython",
    "version": 3
   },
   "file_extension": ".py",
   "mimetype": "text/x-python",
   "name": "python",
   "nbconvert_exporter": "python",
   "pygments_lexer": "ipython3",
   "version": "3.12.4"
  }
 },
 "nbformat": 4,
 "nbformat_minor": 5
}
